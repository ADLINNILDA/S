{
  "nbformat": 4,
  "nbformat_minor": 0,
  "metadata": {
    "colab": {
      "provenance": [],
      "authorship_tag": "ABX9TyP9SDdibFhmYVr+fQxOv+Tl",
      "include_colab_link": true
    },
    "kernelspec": {
      "name": "python3",
      "display_name": "Python 3"
    },
    "language_info": {
      "name": "python"
    }
  },
  "cells": [
    {
      "cell_type": "markdown",
      "metadata": {
        "id": "view-in-github",
        "colab_type": "text"
      },
      "source": [
        "<a href=\"https://colab.research.google.com/github/ADLINNILDA/S/blob/main/songs%20based%20on%20mood.ipynb\" target=\"_parent\"><img src=\"https://colab.research.google.com/assets/colab-badge.svg\" alt=\"Open In Colab\"/></a>"
      ]
    },
    {
      "cell_type": "code",
      "source": [
        "# @title Mood-Based Song Selector\n",
        "mood = \"Sad\"  # @param [\"Happy\", \"Sad\", \"Relaxed\", \"Energetic\", \"Romantic\"]\n",
        "\n",
        "# Dictionary of moods and Tamil song recommendations\n",
        "song_recommendations = {\n",
        "    \"Happy\": [\"Enjoy Enjaami - Dhee ft. Arivu\", \"Vaathi Coming - Anirudh Ravichander\", \"Aaluma Doluma - Anirudh Ravichander\"],\n",
        "    \"Sad\": [\"Anbe Anbe - Karthik\", \"Suttrum Vizhi - S. P. Balasubrahmanyam\", \"Puthu Puthu Arthangal - S. P. Balasubrahmanyam\"],\n",
        "    \"Relaxed\": [\"Vaanil Irul - A.R. Rahman\", \"Yennai Maatrum Kadhale - Anirudh Ravichander\", \"Munbe Vaa - A.R. Rahman\"],\n",
        "    \"Energetic\": [\"Surviva - Anirudh Ravichander\", \"Neruppu Da - Anirudh Ravichander\", \"Vettaiyaadu Vilaiyaadu - Harris Jayaraj\"],\n",
        "    \"Romantic\": [\"Ennavale Adi Ennavale - S.P. Balasubrahmanyam\", \"Kanavil Kanavil - Hariharan\", \"Neeye Naana - Vijay Antony\"]\n",
        "}\n",
        "\n",
        "# Display recommended songs\n",
        "print(f\"🎶 Based on your mood '{mood}', here are some Tamil song recommendations:\")\n",
        "for song in song_recommendations[mood]:\n",
        "    print(f\"- {song}\")\n"
      ],
      "metadata": {
        "colab": {
          "base_uri": "https://localhost:8080/"
        },
        "id": "MZU-iCR-yftM",
        "outputId": "ad9fb966-f026-4870-95df-fa2fb87b52b7"
      },
      "execution_count": 1,
      "outputs": [
        {
          "output_type": "stream",
          "name": "stdout",
          "text": [
            "🎶 Based on your mood 'Sad', here are some Tamil song recommendations:\n",
            "- Anbe Anbe - Karthik\n",
            "- Suttrum Vizhi - S. P. Balasubrahmanyam\n",
            "- Puthu Puthu Arthangal - S. P. Balasubrahmanyam\n"
          ]
        }
      ]
    }
  ]
}